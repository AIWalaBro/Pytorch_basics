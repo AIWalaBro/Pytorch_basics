{
 "cells": [
  {
   "cell_type": "code",
   "execution_count": 1,
   "id": "9aa77ca5-765a-404e-907c-d3de962f1941",
   "metadata": {},
   "outputs": [],
   "source": [
    "import torch"
   ]
  },
  {
   "cell_type": "code",
   "execution_count": 2,
   "id": "e877b065-46ba-4c15-b9f2-0da699f083bf",
   "metadata": {},
   "outputs": [
    {
     "name": "stdout",
     "output_type": "stream",
     "text": [
      "2.2.0+cu118\n"
     ]
    }
   ],
   "source": [
    "print(torch.__version__)"
   ]
  },
  {
   "cell_type": "code",
   "execution_count": 3,
   "id": "0ad52eb1-d2c0-493f-9439-d44408afd860",
   "metadata": {},
   "outputs": [
    {
     "data": {
      "text/plain": [
       "'cuda'"
      ]
     },
     "execution_count": 3,
     "metadata": {},
     "output_type": "execute_result"
    }
   ],
   "source": [
    "device = \"cuda\" if torch.cuda.is_available() else \"cpu\"\n",
    "device"
   ]
  },
  {
   "cell_type": "code",
   "execution_count": 12,
   "id": "075153b5-7795-4a13-9e90-2062ed3eee0c",
   "metadata": {},
   "outputs": [
    {
     "data": {
      "text/plain": [
       "(torch.Size([3]), torch.Size([3]))"
      ]
     },
     "execution_count": 12,
     "metadata": {},
     "output_type": "execute_result"
    }
   ],
   "source": [
    "x = torch.arange(start = 10, end = 20, step = 4)\n",
    "y = torch.arange(start = 20, end = 30, step = 4)\n",
    "\n",
    "x.shape, y.shape"
   ]
  },
  {
   "cell_type": "code",
   "execution_count": 13,
   "id": "7e20543f-bece-48dd-a6de-e1d8c3ec307f",
   "metadata": {},
   "outputs": [
    {
     "data": {
      "text/plain": [
       "tensor([30, 38, 46])"
      ]
     },
     "execution_count": 13,
     "metadata": {},
     "output_type": "execute_result"
    }
   ],
   "source": [
    "x + y"
   ]
  },
  {
   "cell_type": "code",
   "execution_count": 6,
   "id": "f759cf91-6085-4b6a-ab90-7d0762c248af",
   "metadata": {},
   "outputs": [
    {
     "data": {
      "text/plain": [
       "tensor([10, 14, 18])"
      ]
     },
     "execution_count": 6,
     "metadata": {},
     "output_type": "execute_result"
    }
   ],
   "source": [
    "x"
   ]
  },
  {
   "cell_type": "code",
   "execution_count": 7,
   "id": "411c798b-6bcb-489f-ba6c-d9d374db9020",
   "metadata": {},
   "outputs": [
    {
     "data": {
      "text/plain": [
       "tensor([20, 24, 28])"
      ]
     },
     "execution_count": 7,
     "metadata": {},
     "output_type": "execute_result"
    }
   ],
   "source": [
    "y"
   ]
  },
  {
   "cell_type": "code",
   "execution_count": 8,
   "id": "332dbe4a-dc37-4387-90d5-e0aca5139fbd",
   "metadata": {},
   "outputs": [
    {
     "data": {
      "text/plain": [
       "tensor([-10, -10, -10])"
      ]
     },
     "execution_count": 8,
     "metadata": {},
     "output_type": "execute_result"
    }
   ],
   "source": [
    "x - y "
   ]
  },
  {
   "cell_type": "markdown",
   "id": "2b0a5112-acfe-4dc8-bd5d-805491468cc2",
   "metadata": {},
   "source": [
    "### element wise multiplication"
   ]
  },
  {
   "cell_type": "code",
   "execution_count": 9,
   "id": "ae8f34b3-0318-4b26-aedd-dfa50e4fd955",
   "metadata": {},
   "outputs": [
    {
     "data": {
      "text/plain": [
       "tensor([200, 336, 504])"
      ]
     },
     "execution_count": 9,
     "metadata": {},
     "output_type": "execute_result"
    }
   ],
   "source": [
    "x * y"
   ]
  },
  {
   "cell_type": "markdown",
   "id": "7999a965-7f16-4dd0-8a2c-fa5e485e13ef",
   "metadata": {},
   "source": [
    "### element wise division"
   ]
  },
  {
   "cell_type": "code",
   "execution_count": 10,
   "id": "fde01623-e021-4d3b-8397-ed85b9b21dd9",
   "metadata": {},
   "outputs": [
    {
     "data": {
      "text/plain": [
       "tensor([0.5000, 0.5833, 0.6429])"
      ]
     },
     "execution_count": 10,
     "metadata": {},
     "output_type": "execute_result"
    }
   ],
   "source": [
    "x / y"
   ]
  },
  {
   "cell_type": "code",
   "execution_count": 14,
   "id": "e7d88aeb-c62e-4f05-b879-1fc142874a95",
   "metadata": {},
   "outputs": [
    {
     "data": {
      "text/plain": [
       "tensor([1., 1., 1.])"
      ]
     },
     "execution_count": 14,
     "metadata": {},
     "output_type": "execute_result"
    }
   ],
   "source": [
    "z = torch.ones(3)\n",
    "z"
   ]
  },
  {
   "cell_type": "code",
   "execution_count": 16,
   "id": "dc4eea44-cfd6-48e6-83f7-66ef3caf8a3a",
   "metadata": {},
   "outputs": [
    {
     "data": {
      "text/plain": [
       "tensor([11., 15., 19.])"
      ]
     },
     "execution_count": 16,
     "metadata": {},
     "output_type": "execute_result"
    }
   ],
   "source": [
    "z = z+x\n",
    "z"
   ]
  },
  {
   "cell_type": "code",
   "execution_count": 19,
   "id": "38765044-5c34-4a39-b60e-858af62bdae2",
   "metadata": {},
   "outputs": [
    {
     "data": {
      "text/plain": [
       "tensor([41., 57., 73.])"
      ]
     },
     "execution_count": 19,
     "metadata": {},
     "output_type": "execute_result"
    }
   ],
   "source": [
    "# you can also add like this \n",
    "z.add_(x)\n",
    "\n",
    "# basically you add the value of x = ([10, 14, 18])"
   ]
  },
  {
   "cell_type": "code",
   "execution_count": 20,
   "id": "f8412dcd-256c-4d77-9367-b604a47e7d7e",
   "metadata": {},
   "outputs": [
    {
     "data": {
      "text/plain": [
       "tensor([100, 196, 324])"
      ]
     },
     "execution_count": 20,
     "metadata": {},
     "output_type": "execute_result"
    }
   ],
   "source": [
    "# power\n",
    "x.pow(2)"
   ]
  },
  {
   "cell_type": "code",
   "execution_count": 21,
   "id": "d94bb05e-83c7-4f6d-8bcd-8f80fbe85bc0",
   "metadata": {},
   "outputs": [
    {
     "data": {
      "text/plain": [
       "tensor([100, 196, 324])"
      ]
     },
     "execution_count": 21,
     "metadata": {},
     "output_type": "execute_result"
    }
   ],
   "source": [
    "# power\n",
    "x**2"
   ]
  },
  {
   "cell_type": "code",
   "execution_count": 22,
   "id": "910429ab-d4ac-4b48-8a21-38865934699a",
   "metadata": {},
   "outputs": [
    {
     "data": {
      "text/plain": [
       "tensor([True, True, True])"
      ]
     },
     "execution_count": 22,
     "metadata": {},
     "output_type": "execute_result"
    }
   ],
   "source": [
    "x > 0 "
   ]
  },
  {
   "cell_type": "code",
   "execution_count": 23,
   "id": "e14d8ea5-8917-4f0a-a82a-2e17431b8626",
   "metadata": {},
   "outputs": [
    {
     "data": {
      "text/plain": [
       "tensor([False, False, False])"
      ]
     },
     "execution_count": 23,
     "metadata": {},
     "output_type": "execute_result"
    }
   ],
   "source": [
    "x < 0"
   ]
  },
  {
   "cell_type": "code",
   "execution_count": 28,
   "id": "9a2ed519-ec8e-4eaf-88d8-4912c9356859",
   "metadata": {},
   "outputs": [
    {
     "data": {
      "text/plain": [
       "tensor([[1.0010, 1.9967, 0.4976, 1.1570],\n",
       "        [1.9210, 2.1102, 0.6484, 1.2557],\n",
       "        [1.6242, 1.8023, 0.5721, 1.1775]])"
      ]
     },
     "execution_count": 28,
     "metadata": {},
     "output_type": "execute_result"
    }
   ],
   "source": [
    "# Matrix Multiplication\n",
    "\n",
    "a = torch.rand(size = (3,5))\n",
    "b = torch.rand(size = (5,4))\n",
    "\n",
    "a@b"
   ]
  },
  {
   "cell_type": "code",
   "execution_count": 29,
   "id": "e4c3733c-1ae9-4360-9657-cbc7582365b0",
   "metadata": {},
   "outputs": [
    {
     "data": {
      "text/plain": [
       "tensor([[1.0010, 1.9967, 0.4976, 1.1570],\n",
       "        [1.9210, 2.1102, 0.6484, 1.2557],\n",
       "        [1.6242, 1.8023, 0.5721, 1.1775]])"
      ]
     },
     "execution_count": 29,
     "metadata": {},
     "output_type": "execute_result"
    }
   ],
   "source": [
    "# alternative of matrix multiplication\n",
    "\n",
    "a.matmul(b)"
   ]
  },
  {
   "cell_type": "code",
   "execution_count": 30,
   "id": "13b3787e-69e8-4e81-b1c3-63d5bc2d5aab",
   "metadata": {},
   "outputs": [
    {
     "data": {
      "text/plain": [
       "tensor([[2.1191, 1.0681, 0.8166],\n",
       "        [1.4708, 3.2776, 2.5367],\n",
       "        [0.9982, 2.0772, 3.0325]])"
      ]
     },
     "execution_count": 30,
     "metadata": {},
     "output_type": "execute_result"
    }
   ],
   "source": [
    "x = torch.rand((3,3))\n",
    "x.matrix_exp()"
   ]
  },
  {
   "cell_type": "code",
   "execution_count": 31,
   "id": "687e74ff-f7d0-4d6b-8e28-d2d7e548399f",
   "metadata": {},
   "outputs": [
    {
     "data": {
      "text/plain": [
       "tensor([[0.5970, 0.6625, 0.6157],\n",
       "        [0.9300, 1.5510, 1.5276],\n",
       "        [0.7295, 1.2583, 1.3458]])"
      ]
     },
     "execution_count": 31,
     "metadata": {},
     "output_type": "execute_result"
    }
   ],
   "source": [
    "x.matrix_power(2)"
   ]
  },
  {
   "cell_type": "code",
   "execution_count": 32,
   "id": "0d6f96de-395f-4ca9-aad1-87d9b90cbcc6",
   "metadata": {},
   "outputs": [
    {
     "data": {
      "text/plain": [
       "tensor([[11.8236,  9.4981,  4.7732],\n",
       "        [10.4712, 17.6563, 27.8743],\n",
       "        [ 4.7280, 19.3476, 19.8569]])"
      ]
     },
     "execution_count": 32,
     "metadata": {},
     "output_type": "execute_result"
    }
   ],
   "source": [
    "# element wise multiplication\n",
    "x * y"
   ]
  },
  {
   "cell_type": "code",
   "execution_count": 40,
   "id": "19b17a96-7727-45ab-9ba3-ed7a00644cf3",
   "metadata": {},
   "outputs": [
    {
     "ename": "RuntimeError",
     "evalue": "1D tensors expected, but got 2D and 2D tensors",
     "output_type": "error",
     "traceback": [
      "\u001b[1;31m---------------------------------------------------------------------------\u001b[0m",
      "\u001b[1;31mRuntimeError\u001b[0m                              Traceback (most recent call last)",
      "Cell \u001b[1;32mIn[40], line 1\u001b[0m\n\u001b[1;32m----> 1\u001b[0m \u001b[43mtorch\u001b[49m\u001b[38;5;241;43m.\u001b[39;49m\u001b[43mdot\u001b[49m\u001b[43m(\u001b[49m\u001b[43mx\u001b[49m\u001b[43m,\u001b[49m\u001b[43my\u001b[49m\u001b[43m)\u001b[49m\n",
      "\u001b[1;31mRuntimeError\u001b[0m: 1D tensors expected, but got 2D and 2D tensors"
     ]
    }
   ],
   "source": [
    "# dot product - dot prduct work on 1d tensor not on 2d and 3d tensors\n",
    "torch.dot(x,y)"
   ]
  },
  {
   "cell_type": "code",
   "execution_count": 46,
   "id": "40c632ce-7d99-4867-9d38-115f44501169",
   "metadata": {},
   "outputs": [],
   "source": [
    "x = torch.arange(start =10, end =20, step = 7)\n",
    "y = torch.arange(start = 30, end = 40, step = 7)"
   ]
  },
  {
   "cell_type": "code",
   "execution_count": 47,
   "id": "918ed805-e446-41b6-a408-ea9a93008e37",
   "metadata": {},
   "outputs": [
    {
     "data": {
      "text/plain": [
       "tensor([30, 37])"
      ]
     },
     "execution_count": 47,
     "metadata": {},
     "output_type": "execute_result"
    }
   ],
   "source": [
    "y"
   ]
  },
  {
   "cell_type": "code",
   "execution_count": 48,
   "id": "353e55de-b87a-4b13-81be-1aaa850d496e",
   "metadata": {},
   "outputs": [
    {
     "data": {
      "text/plain": [
       "tensor([10, 17])"
      ]
     },
     "execution_count": 48,
     "metadata": {},
     "output_type": "execute_result"
    }
   ],
   "source": [
    "x"
   ]
  },
  {
   "cell_type": "code",
   "execution_count": 49,
   "id": "b73c6474-dd97-4c26-b1e9-ac07a5f27953",
   "metadata": {},
   "outputs": [
    {
     "data": {
      "text/plain": [
       "tensor(929)"
      ]
     },
     "execution_count": 49,
     "metadata": {},
     "output_type": "execute_result"
    }
   ],
   "source": [
    "torch.dot(x, y)"
   ]
  },
  {
   "cell_type": "code",
   "execution_count": null,
   "id": "6395e3ce-25c8-4693-a2e3-e211bdde5c9c",
   "metadata": {},
   "outputs": [],
   "source": []
  }
 ],
 "metadata": {
  "kernelspec": {
   "display_name": "Python 3 (ipykernel)",
   "language": "python",
   "name": "python3"
  },
  "language_info": {
   "codemirror_mode": {
    "name": "ipython",
    "version": 3
   },
   "file_extension": ".py",
   "mimetype": "text/x-python",
   "name": "python",
   "nbconvert_exporter": "python",
   "pygments_lexer": "ipython3",
   "version": "3.10.13"
  }
 },
 "nbformat": 4,
 "nbformat_minor": 5
}
